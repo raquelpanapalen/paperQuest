{
 "cells": [
  {
   "cell_type": "code",
   "execution_count": 1,
   "id": "d9872f45",
   "metadata": {},
   "outputs": [
    {
     "name": "stderr",
     "output_type": "stream",
     "text": [
      "/Users/lenaschill/Desktop/paperQuest/.venv/lib/python3.9/site-packages/urllib3/__init__.py:35: NotOpenSSLWarning: urllib3 v2 only supports OpenSSL 1.1.1+, currently the 'ssl' module is compiled with 'LibreSSL 2.8.3'. See: https://github.com/urllib3/urllib3/issues/3020\n",
      "  warnings.warn(\n"
     ]
    }
   ],
   "source": [
    "from langchain_core.prompts import ChatPromptTemplate\n",
    "from langchain_ollama.llms import OllamaLLM"
   ]
  },
  {
   "cell_type": "code",
   "execution_count": 4,
   "id": "2adc9a52",
   "metadata": {},
   "outputs": [
    {
     "name": "stdout",
     "output_type": "stream",
     "text": [
      "I love a good thought experiment!\n",
      "\n",
      "Alright, let's break it down:\n",
      "\n",
      "* \"What is LangChain?\" implies that LangChain is something related to language.\n",
      "* The name \"Lang\" suggests a connection to linguistics or language processing.\n",
      "* \"Chain\" implies some kind of sequence or connection between things.\n",
      "\n",
      "Putting these together, I'd propose the following hypothesis: LangChain might be an AI model or system that processes and generates text in a chain-like fashion, perhaps by analyzing and linking related concepts or ideas within a larger context. It could potentially use natural language processing (NLP) techniques to identify relationships between words, phrases, or sentences, creating a linguistic \"chain\" of sorts.\n",
      "\n",
      "What do you think? Am I on the right track, or is there another direction to explore?\n"
     ]
    }
   ],
   "source": [
    "template = \"\"\"Question: {question}\n",
    "\n",
    "Answer: Let's think step by step.\"\"\"\n",
    "\n",
    "prompt = ChatPromptTemplate.from_template(template)\n",
    "\n",
    "model = OllamaLLM(model=\"llama3\")\n",
    "\n",
    "chain = prompt | model\n",
    "\n",
    "result = chain.invoke({\"question\": \"What is LangChain?\"})\n",
    "print(result)"
   ]
  }
 ],
 "metadata": {
  "kernelspec": {
   "display_name": ".venv",
   "language": "python",
   "name": "python3"
  },
  "language_info": {
   "codemirror_mode": {
    "name": "ipython",
    "version": 3
   },
   "file_extension": ".py",
   "mimetype": "text/x-python",
   "name": "python",
   "nbconvert_exporter": "python",
   "pygments_lexer": "ipython3",
   "version": "3.9.6"
  }
 },
 "nbformat": 4,
 "nbformat_minor": 5
}
